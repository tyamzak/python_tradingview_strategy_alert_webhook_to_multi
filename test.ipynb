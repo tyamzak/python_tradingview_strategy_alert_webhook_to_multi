{
 "cells": [
  {
   "cell_type": "code",
   "execution_count": 3,
   "metadata": {},
   "outputs": [],
   "source": [
    "import time\n",
    "import ast\n",
    "from flask import Flask, request, abort\n",
    "from pprint import pprint\n",
    "import datetime\n",
    "import requests\n",
    "import os\n",
    "from os.path import join, dirname\n",
    "from dotenv import load_dotenv\n",
    "from pathlib import Path\n",
    "\n",
    "# Binance用に追加が必要 start ---------\n",
    "import json\n",
    "import hmac\n",
    "import hashlib\n",
    "# Binance用に追加が必要  end ---------\n",
    "\n",
    "\n",
    "#-------------------------------------------------------\n",
    "# 環境変数の読み込み\n",
    "#-------------------------------------------------------\n",
    "\n",
    "load_dotenv(verbose=True)\n",
    "\n",
    "dotenv_path = join(Path().resolve(), '.env')\n",
    "load_dotenv(dotenv_path)\n",
    "\n",
    "#-------------------------------------------------------\n",
    "# CCXTapi設定\n",
    "#-------------------------------------------------------\n",
    "\n",
    "import ccxt\n",
    "binance = ccxt.binance()"
   ]
  },
  {
   "cell_type": "code",
   "execution_count": 4,
   "metadata": {},
   "outputs": [],
   "source": [
    "candles = binance.fetch_ohlcv('ETH/BTC')\n"
   ]
  },
  {
   "cell_type": "code",
   "execution_count": 5,
   "metadata": {},
   "outputs": [
    {
     "name": "stdout",
     "output_type": "stream",
     "text": [
      "{'ETH/BTC': {'symbol': 'ETH/BTC', 'timestamp': 1651411881019, 'datetime': '2022-05-01T13:31:21.019Z', 'high': 0.073314, 'low': 0.072228, 'bid': 0.072831, 'bidVolume': 4.1468, 'ask': 0.072832, 'askVolume': 22.3176, 'vwap': 0.07285756, 'open': 0.073213, 'close': 0.072839, 'last': 0.072839, 'previousClose': '0.07321300', 'change': -0.000374, 'percentage': -0.511, 'average': 0.073026, 'baseVolume': 69341.4824, 'quoteVolume': 5052.0509078, 'info': {'symbol': 'ETHBTC', 'priceChange': '-0.00037400', 'priceChangePercent': '-0.511', 'weightedAvgPrice': '0.07285756', 'prevClosePrice': '0.07321300', 'lastPrice': '0.07283900', 'lastQty': '10.05760000', 'bidPrice': '0.07283100', 'bidQty': '4.14680000', 'askPrice': '0.07283200', 'askQty': '22.31760000', 'openPrice': '0.07321300', 'highPrice': '0.07331400', 'lowPrice': '0.07222800', 'volume': '69341.48240000', 'quoteVolume': '5052.05090780', 'openTime': '1651325481019', 'closeTime': '1651411881019', 'firstId': '336788769', 'lastId': '336908591', 'count': '119823'}}}\n"
     ]
    }
   ],
   "source": [
    "tks = binance.fetch_tickers('ETH/BTC')\n",
    "\n",
    "print(tks)"
   ]
  },
  {
   "cell_type": "code",
   "execution_count": 6,
   "metadata": {},
   "outputs": [
    {
     "name": "stdout",
     "output_type": "stream",
     "text": [
      "[1.65138192e+12 7.30860000e-02 7.31140000e-02 7.30860000e-02\n",
      " 7.31090000e-02 5.98567000e+01]\n"
     ]
    },
    {
     "data": {
      "text/plain": [
       "(array([14., 75., 84., 62., 35., 35., 54., 38., 78., 25.]),\n",
       " array([0.072641 , 0.0727023, 0.0727636, 0.0728249, 0.0728862, 0.0729475,\n",
       "        0.0730088, 0.0730701, 0.0731314, 0.0731927, 0.073254 ]),\n",
       " <BarContainer object of 10 artists>)"
      ]
     },
     "execution_count": 6,
     "metadata": {},
     "output_type": "execute_result"
    },
    {
     "data": {
      "image/png": "[encoded data removed]",
      "text/plain": [
       "<Figure size 432x288 with 1 Axes>"
      ]
     },
     "metadata": {
      "needs_background": "light"
     },
     "output_type": "display_data"
    }
   ],
   "source": [
    "from matplotlib import pyplot as plt\n",
    "import numpy as np\n",
    "\n",
    "arr = np.array(candles)\n",
    "print(arr[0])\n",
    "\n",
    "#plt.plot(arr[:,0], arr[:,1])\n",
    "#plt.scatter(arr[:,0], arr[:,1])\n",
    "plt.axis('on') # 軸をONにする\n",
    "plt.ylabel('test y label')\n",
    "plt.xlabel('test x label')\n",
    "plt.ylim(0.0740, 0.075)\n",
    "xrange = range(0,len(arr))\n",
    "#plt.scatter(arr[:,0], arr[:,1])\n",
    "# plt.bar(xrange,arr[:,1])\n",
    "\n",
    "# plt.pie(arr[:,1])\n",
    "plt.hist(arr[:,1], color='pink')"
   ]
  },
  {
   "cell_type": "code",
   "execution_count": 119,
   "metadata": {},
   "outputs": [
    {
     "ename": "TypeError",
     "evalue": "'RangeIndex' object is not callable",
     "output_type": "error",
     "traceback": [
      "\u001b[1;31m---------------------------------------------------------------------------\u001b[0m",
      "\u001b[1;31mTypeError\u001b[0m                                 Traceback (most recent call last)",
      "\u001b[1;32mc:\\Users\\user\\Documents\\python\\python_tradingview_strategy_alert_webhook_to_multi\\test.ipynb Cell 5'\u001b[0m in \u001b[0;36m<cell line: 4>\u001b[1;34m()\u001b[0m\n\u001b[0;32m      <a href='vscode-notebook-cell:/c%3A/Users/user/Documents/python/python_tradingview_strategy_alert_webhook_to_multi/test.ipynb#ch0000006?line=1'>2</a>\u001b[0m \u001b[39mimport\u001b[39;00m \u001b[39mpandas\u001b[39;00m \u001b[39mas\u001b[39;00m \u001b[39mpd\u001b[39;00m\n\u001b[0;32m      <a href='vscode-notebook-cell:/c%3A/Users/user/Documents/python/python_tradingview_strategy_alert_webhook_to_multi/test.ipynb#ch0000006?line=2'>3</a>\u001b[0m df \u001b[39m=\u001b[39m pd\u001b[39m.\u001b[39mDataFrame((\u001b[39m100\u001b[39m\u001b[39m-\u001b[39m\u001b[39m1\u001b[39m)\u001b[39m*\u001b[39mnp\u001b[39m.\u001b[39mrandom\u001b[39m.\u001b[39mrand(\u001b[39m100\u001b[39m,\u001b[39m6\u001b[39m)\u001b[39m+\u001b[39m\u001b[39m99\u001b[39m)\n\u001b[1;32m----> <a href='vscode-notebook-cell:/c%3A/Users/user/Documents/python/python_tradingview_strategy_alert_webhook_to_multi/test.ipynb#ch0000006?line=3'>4</a>\u001b[0m df\u001b[39m.\u001b[39;49mcolumns(\u001b[39m2\u001b[39;49m)\u001b[39m.\u001b[39mvalues\n",
      "\u001b[1;31mTypeError\u001b[0m: 'RangeIndex' object is not callable"
     ]
    }
   ],
   "source": [
    "import streamlit as st\n",
    "import pandas as pd\n",
    "df = pd.DataFrame((100-1)*np.random.rand(100,6)+99)\n"
   ]
  },
  {
   "cell_type": "code",
   "execution_count": 7,
   "metadata": {},
   "outputs": [
    {
     "name": "stderr",
     "output_type": "stream",
     "text": [
      "[INFO   ] [deps        ] Successfully imported \"kivy_deps.angle\" 0.3.2\n",
      "[INFO   ] [deps        ] Successfully imported \"kivy_deps.glew\" 0.3.1\n",
      "[INFO   ] [deps        ] Successfully imported \"kivy_deps.sdl2\" 0.4.5\n",
      "[INFO   ] [Kivy        ] v2.1.0\n",
      "[INFO   ] [Kivy        ] Installed at \"c:\\Users\\user\\Documents\\python\\python_tradingview_strategy_alert_webhook_to_multi\\venv\\lib\\site-packages\\kivy\\__init__.py\"\n",
      "[INFO   ] [Python      ] v3.9.12 (tags/v3.9.12:b28265d, Mar 23 2022, 23:52:46) [MSC v.1929 64 bit (AMD64)]\n",
      "[INFO   ] [Python      ] Interpreter at \"c:\\Users\\user\\Documents\\python\\python_tradingview_strategy_alert_webhook_to_multi\\venv\\Scripts\\python.exe\"\n",
      "[INFO   ] [Logger      ] Purge log fired. Processing...\n",
      "[INFO   ] [Logger      ] Purge finished!\n",
      "[INFO   ] [Factory     ] 189 symbols loaded\n",
      "[INFO   ] [Image       ] Providers: img_tex, img_dds, img_sdl2, img_pil (img_ffpyplayer ignored)\n",
      "[INFO   ] [Text        ] Provider: sdl2\n",
      "[INFO   ] [Window      ] Provider: sdl2\n",
      "[INFO   ] [GL          ] Using the \"OpenGL\" graphics system\n",
      "[INFO   ] [GL          ] GLEW initialization succeeded\n",
      "[INFO   ] [GL          ] Backend used <glew>\n",
      "[INFO   ] [GL          ] OpenGL version <b'4.3.0 - Build 20.19.15.5126'>\n",
      "[INFO   ] [GL          ] OpenGL vendor <b'Intel'>\n",
      "[INFO   ] [GL          ] OpenGL renderer <b'Intel(R) HD Graphics 4400'>\n",
      "[INFO   ] [GL          ] OpenGL parsed version: 4, 3\n",
      "[INFO   ] [GL          ] Shading version <b'4.30 - Build 20.19.15.5126'>\n",
      "[INFO   ] [GL          ] Texture max size <16384>\n",
      "[INFO   ] [GL          ] Texture max units <32>\n",
      "[INFO   ] [Window      ] auto add sdl2 input provider\n",
      "[INFO   ] [Window      ] virtual keyboard not allowed, single mode, not docked\n",
      "[INFO   ] [Base        ] Start application main loop\n",
      "[INFO   ] [GL          ] NPOT texture support is available\n",
      "[INFO   ] [Base        ] Leaving application in progress...\n"
     ]
    }
   ],
   "source": [
    "import kivy\n",
    "kivy.require('2.1.0')\n",
    "\n",
    "from kivy.app import App\n",
    "from kivy.uix.label import Label\n",
    "\n",
    "class MyApp(App):\n",
    "    def build(self):\n",
    "        return Label(text='Hello world')\n",
    "    def on_start(self):\n",
    "        return Label(text='on_start')\n",
    "    def on_pause(self):\n",
    "        return Label(text='on_pause')\n",
    "    def on_resume(self):\n",
    "        return Label(text='on_resume')\n",
    "\n",
    "if __name__ == '__main__':\n",
    "    MyApp().run()\n"
   ]
  }
 ],
 "metadata": {
  "interpreter": {
   "hash": "7fd22fc749e4ec9a042441ccdd98891a35675b39d0a1e7b01629aeaca00be29a"
  },
  "kernelspec": {
   "display_name": "Python 3.9.12 ('venv': venv)",
   "language": "python",
   "name": "python3"
  },
  "language_info": {
   "codemirror_mode": {
    "name": "ipython",
    "version": 3
   },
   "file_extension": ".py",
   "mimetype": "text/x-python",
   "name": "python",
   "nbconvert_exporter": "python",
   "pygments_lexer": "ipython3",
   "version": "3.9.12"
  },
  "orig_nbformat": 4
 },
 "nbformat": 4,
 "nbformat_minor": 2
}
