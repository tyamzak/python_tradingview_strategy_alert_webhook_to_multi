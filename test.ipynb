{
 "cells": [
  {
   "cell_type": "code",
   "execution_count": 2,
   "metadata": {},
   "outputs": [],
   "source": [
    "import time\n",
    "import ast\n",
    "from flask import Flask, request, abort\n",
    "from pprint import pprint\n",
    "import datetime\n",
    "import requests\n",
    "import os\n",
    "from os.path import join, dirname\n",
    "from dotenv import load_dotenv\n",
    "from pathlib import Path\n",
    "\n",
    "# Binance用に追加が必要 start ---------\n",
    "import json\n",
    "import hmac\n",
    "import hashlib\n",
    "# Binance用に追加が必要  end ---------\n",
    "\n",
    "#-------------------------------------------------------\n",
    "# 環境変数の読み込み\n",
    "#-------------------------------------------------------\n",
    "\n",
    "load_dotenv(verbose=True)\n",
    "\n",
    "dotenv_path = join(Path().resolve(), '.env')\n",
    "load_dotenv(dotenv_path)\n",
    "\n",
    "#-------------------------------------------------------\n",
    "# CCXTapi設定\n",
    "#-------------------------------------------------------\n",
    "\n",
    "import ccxt\n"
   ]
  },
  {
   "cell_type": "code",
   "execution_count": 3,
   "metadata": {},
   "outputs": [],
   "source": [
    "binance = ccxt.binance()\n"
   ]
  },
  {
   "cell_type": "code",
   "execution_count": 10,
   "metadata": {},
   "outputs": [],
   "source": [
    "tks = binance.fetch_tickers('ETH/BTC')"
   ]
  },
  {
   "cell_type": "code",
   "execution_count": 17,
   "metadata": {},
   "outputs": [],
   "source": [
    "from matplotlib import pyplot as plt"
   ]
  }
 ],
 "metadata": {
  "interpreter": {
   "hash": "7fd22fc749e4ec9a042441ccdd98891a35675b39d0a1e7b01629aeaca00be29a"
  },
  "kernelspec": {
   "display_name": "Python 3.9.12 ('venv': venv)",
   "language": "python",
   "name": "python3"
  },
  "language_info": {
   "codemirror_mode": {
    "name": "ipython",
    "version": 3
   },
   "file_extension": ".py",
   "mimetype": "text/x-python",
   "name": "python",
   "nbconvert_exporter": "python",
   "pygments_lexer": "ipython3",
   "version": "3.9.12"
  },
  "orig_nbformat": 4
 },
 "nbformat": 4,
 "nbformat_minor": 2
}
